{
 "cells": [
  {
   "cell_type": "markdown",
   "metadata": {},
   "source": [
    "# Before your start:\n",
    "- Read the README.md file\n",
    "- Comment as much as you can and use the resources (README.md file)\n",
    "- Happy learning!"
   ]
  },
  {
   "cell_type": "code",
   "execution_count": 1,
   "metadata": {
    "ExecuteTime": {
     "end_time": "2020-03-23T18:15:01.431614Z",
     "start_time": "2020-03-23T18:15:01.427613Z"
    }
   },
   "outputs": [],
   "source": [
    "##???????? are factors of PCA principal componenets??"
   ]
  },
  {
   "cell_type": "code",
   "execution_count": 2,
   "metadata": {
    "ExecuteTime": {
     "end_time": "2020-03-23T18:15:01.791857Z",
     "start_time": "2020-03-23T18:15:01.431614Z"
    }
   },
   "outputs": [],
   "source": [
    "# Run this code:\n",
    "\n",
    "%matplotlib inline\n",
    "\n",
    "import matplotlib.pyplot as plt"
   ]
  },
  {
   "cell_type": "code",
   "execution_count": 3,
   "metadata": {
    "ExecuteTime": {
     "end_time": "2020-03-23T18:15:03.247634Z",
     "start_time": "2020-03-23T18:15:01.791857Z"
    }
   },
   "outputs": [],
   "source": [
    "# Import numpy and pandas:\n",
    "\n",
    "import pandas as pd\n",
    "import numpy as np\n",
    "\n",
    "from sklearn.decomposition import PCA\n",
    "from sklearn import preprocessing\n"
   ]
  },
  {
   "cell_type": "markdown",
   "metadata": {},
   "source": [
    "# Challenge 1 - Reading and Standardizing the Data\n",
    "\n",
    "In this challenge we will work with image data and reduce the dimensions of the data to create a 2 dimensional plot. While we have not worked much with image data before, it can be represented as a numpy array where each pixel is assigned a numeric value. In this lesson, we will look at a dataset of cats and a dataset of dogs and see whether reducing them to two dimensions allows us to see if the data is separable. We will start by loading and processing the data. Run the cell below to load the two csv files and convert them into numpy arrays."
   ]
  },
  {
   "cell_type": "code",
   "execution_count": 4,
   "metadata": {
    "ExecuteTime": {
     "end_time": "2020-03-23T18:15:04.380130Z",
     "start_time": "2020-03-23T18:15:03.247634Z"
    }
   },
   "outputs": [],
   "source": [
    "# Run this code\n",
    "\n",
    "cats = np.array(pd.read_csv(\"https://raw.githubusercontent.com/bioramble/pca/master/cat.csv\", header=None))\n",
    "dogs = np.array(pd.read_csv(\"https://raw.githubusercontent.com/bioramble/pca/master/dog.csv\", header=None))"
   ]
  },
  {
   "cell_type": "markdown",
   "metadata": {},
   "source": [
    "Next, we'll examine the shape of both the cats and the dogs arrays. Print out both shapes below."
   ]
  },
  {
   "cell_type": "code",
   "execution_count": 5,
   "metadata": {
    "ExecuteTime": {
     "end_time": "2020-03-23T18:15:04.388131Z",
     "start_time": "2020-03-23T18:15:04.380130Z"
    }
   },
   "outputs": [
    {
     "name": "stdout",
     "output_type": "stream",
     "text": [
      "(4096, 80)\n",
      "(4096, 80)\n"
     ]
    }
   ],
   "source": [
    "# Your code here:\n",
    "\n",
    "print(cats.shape)\n",
    "print(dogs.shape)"
   ]
  },
  {
   "cell_type": "markdown",
   "metadata": {},
   "source": [
    "What this means is that both arrays contain 80 images each (the number of columns). Each image is comprised of 64x64 pixels (so a total of 4096 pixels per image). The images have been flattened such that all 4096 are in a single row.\n",
    "\n",
    "Print out column 0 of the cats array to see what the pixels values look like."
   ]
  },
  {
   "cell_type": "code",
   "execution_count": 6,
   "metadata": {
    "ExecuteTime": {
     "end_time": "2020-03-23T18:15:04.400130Z",
     "start_time": "2020-03-23T18:15:04.388131Z"
    }
   },
   "outputs": [
    {
     "name": "stdout",
     "output_type": "stream",
     "text": [
      "[64 64 64 ... 64 64 61]\n"
     ]
    }
   ],
   "source": [
    "# Your code here:\n",
    "print(cats[:,0])"
   ]
  },
  {
   "cell_type": "markdown",
   "metadata": {},
   "source": [
    "Using `matplotlib` we can plot a single cat or a single dog. We do this by reshaping the vector back to a 64x64 image and then using the `imshow` function.\n",
    "\n",
    "Run the code below to look at the first dog and the first cat."
   ]
  },
  {
   "cell_type": "code",
   "execution_count": 7,
   "metadata": {
    "ExecuteTime": {
     "end_time": "2020-03-23T18:15:04.608131Z",
     "start_time": "2020-03-23T18:15:04.400130Z"
    }
   },
   "outputs": [
    {
     "data": {
      "text/plain": [
       "<matplotlib.image.AxesImage at 0x23105199ac8>"
      ]
     },
     "execution_count": 7,
     "metadata": {},
     "output_type": "execute_result"
    },
    {
     "data": {
      "image/png": "[encoded data removed]",
      "text/plain": [
       "<Figure size 432x288 with 1 Axes>"
      ]
     },
     "metadata": {
      "needs_background": "light"
     },
     "output_type": "display_data"
    }
   ],
   "source": [
    "# Run this code:\n",
    "\n",
    "fig, ax = plt.subplots()\n",
    "ax.imshow(cats[:,0].reshape(64, 64).T, cmap=plt.cm.bone, interpolation='nearest') "
   ]
  },
  {
   "cell_type": "code",
   "execution_count": 8,
   "metadata": {
    "ExecuteTime": {
     "end_time": "2020-03-23T18:15:04.748439Z",
     "start_time": "2020-03-23T18:15:04.608131Z"
    }
   },
   "outputs": [
    {
     "data": {
      "text/plain": [
       "<matplotlib.image.AxesImage at 0x23105512888>"
      ]
     },
     "execution_count": 8,
     "metadata": {},
     "output_type": "execute_result"
    },
    {
     "data": {
      "image/png": "[encoded data removed]",
      "text/plain": [
       "<Figure size 432x288 with 1 Axes>"
      ]
     },
     "metadata": {
      "needs_background": "light"
     },
     "output_type": "display_data"
    }
   ],
   "source": [
    "# Run this code:\n",
    "\n",
    "fig, ax = plt.subplots()\n",
    "ax.imshow(dogs[:,0].reshape(64, 64).T, cmap=plt.cm.bone, interpolation='nearest') "
   ]
  },
  {
   "cell_type": "markdown",
   "metadata": {},
   "source": [
    "Next, we would like to create a standardization function. This function will find the mean and standard deviation of each image. We subtract the mean from each pixel and divide each pixel by the standard deviation. Write the function below.\n",
    "\n",
    "Hint: To find the mean and standard deviation of each image, use `numpy`'s version of mean and stadnard deviation and use `axis=0`."
   ]
  },
  {
   "cell_type": "code",
   "execution_count": 9,
   "metadata": {
    "ExecuteTime": {
     "end_time": "2020-03-23T18:15:04.756131Z",
     "start_time": "2020-03-23T18:15:04.748439Z"
    }
   },
   "outputs": [],
   "source": [
    "def standardize(x):\n",
    "    #This function takes as input a numpy array and returns a stadardized numpy array of the same dimensions.\n",
    "    #Sample input: np.array([[1,2,3],[4,5,6]])\n",
    "    #Sample output: np.array([[-1,-1,-1],[1,1,1]])\n",
    "    \n",
    "    # Your code here:\n",
    "    mean = np.mean(x, axis = 0)\n",
    "    std = np.std(x, axis = 0)\n",
    "    return (x - mean) / std"
   ]
  },
  {
   "cell_type": "markdown",
   "metadata": {},
   "source": [
    "Now, use the `np.concatenate` function to combine the cats and dogs arrays. Use `axis=1` to combine the two correctly. Make sure to put dogs first."
   ]
  },
  {
   "cell_type": "code",
   "execution_count": 10,
   "metadata": {
    "ExecuteTime": {
     "end_time": "2020-03-23T18:15:04.772131Z",
     "start_time": "2020-03-23T18:15:04.756131Z"
    }
   },
   "outputs": [
    {
     "data": {
      "text/plain": [
       "array([[224, 131, 127, ...,  60, 223, 101],\n",
       "       [224, 124, 136, ...,  50, 224, 107],\n",
       "       [224, 104, 127, ...,  63, 225, 106],\n",
       "       ...,\n",
       "       [100, 104, 115, ..., 105, 180, 114],\n",
       "       [100, 124, 104, ..., 118, 182,  91],\n",
       "       [100, 124, 104, ..., 104, 177, 113]], dtype=int64)"
      ]
     },
     "execution_count": 10,
     "metadata": {},
     "output_type": "execute_result"
    }
   ],
   "source": [
    "# Your code here:\n",
    "\n",
    "pet = np.concatenate((dogs, cats), axis=1)\n",
    "pet"
   ]
  },
  {
   "cell_type": "markdown",
   "metadata": {},
   "source": [
    "Standardize the concatenated array below."
   ]
  },
  {
   "cell_type": "code",
   "execution_count": 11,
   "metadata": {
    "ExecuteTime": {
     "end_time": "2020-03-23T18:15:04.800131Z",
     "start_time": "2020-03-23T18:15:04.772131Z"
    }
   },
   "outputs": [
    {
     "data": {
      "text/plain": [
       "array([[ 2.37662907, -0.30753004,  0.93254857, ..., -1.80817356,\n",
       "         1.42293481, -0.20363951],\n",
       "       [ 2.37662907, -0.40500299,  1.15681724, ..., -2.06459792,\n",
       "         1.44036713, -0.05437635],\n",
       "       [ 2.37662907, -0.68349716,  0.93254857, ..., -1.73124626,\n",
       "         1.45779946, -0.07925354],\n",
       "       ...,\n",
       "       [ 0.22755315, -0.68349716,  0.63352369, ..., -0.65426398,\n",
       "         0.67334483,  0.11976401],\n",
       "       [ 0.22755315, -0.40500299,  0.35941754, ..., -0.32091232,\n",
       "         0.70820948, -0.45241144],\n",
       "       [ 0.22755315, -0.40500299,  0.35941754, ..., -0.67990641,\n",
       "         0.62104786,  0.09488681]])"
      ]
     },
     "execution_count": 11,
     "metadata": {},
     "output_type": "execute_result"
    }
   ],
   "source": [
    "# Your code here:\n",
    "\n",
    "pet_std = standardize(pet)\n",
    "pet_std"
   ]
  },
  {
   "cell_type": "markdown",
   "metadata": {},
   "source": [
    "# Challenge 2 - Using PCA\n",
    "\n",
    "Now that we have created a standardized matrix of cats and dogs, we'll find the two most important components in the data.\n",
    "\n",
    "Load the `PCA` function from `statsmodels` (read about this function [here](https://www.statsmodels.org/dev/generated/statsmodels.multivariate.pca.PCA.html)) and apply the function to our standarized data. Create a PCA model with two components."
   ]
  },
  {
   "cell_type": "code",
   "execution_count": 12,
   "metadata": {
    "ExecuteTime": {
     "end_time": "2020-03-23T18:15:04.848130Z",
     "start_time": "2020-03-23T18:15:04.800131Z"
    },
    "scrolled": true
   },
   "outputs": [
    {
     "data": {
      "text/html": [
       "<div>\n",
       "<style scoped>\n",
       "    .dataframe tbody tr th:only-of-type {\n",
       "        vertical-align: middle;\n",
       "    }\n",
       "\n",
       "    .dataframe tbody tr th {\n",
       "        vertical-align: top;\n",
       "    }\n",
       "\n",
       "    .dataframe thead th {\n",
       "        text-align: right;\n",
       "    }\n",
       "</style>\n",
       "<table border=\"1\" class=\"dataframe\">\n",
       "  <thead>\n",
       "    <tr style=\"text-align: right;\">\n",
       "      <th></th>\n",
       "      <th>PC1</th>\n",
       "      <th>PC2</th>\n",
       "    </tr>\n",
       "  </thead>\n",
       "  <tbody>\n",
       "    <tr>\n",
       "      <td>0</td>\n",
       "      <td>10.057970</td>\n",
       "      <td>-9.718553</td>\n",
       "    </tr>\n",
       "    <tr>\n",
       "      <td>1</td>\n",
       "      <td>10.204446</td>\n",
       "      <td>-9.430431</td>\n",
       "    </tr>\n",
       "    <tr>\n",
       "      <td>2</td>\n",
       "      <td>10.215465</td>\n",
       "      <td>-9.604243</td>\n",
       "    </tr>\n",
       "    <tr>\n",
       "      <td>3</td>\n",
       "      <td>10.209994</td>\n",
       "      <td>-9.768485</td>\n",
       "    </tr>\n",
       "    <tr>\n",
       "      <td>4</td>\n",
       "      <td>10.424260</td>\n",
       "      <td>-9.537114</td>\n",
       "    </tr>\n",
       "  </tbody>\n",
       "</table>\n",
       "</div>"
      ],
      "text/plain": [
       "         PC1       PC2\n",
       "0  10.057970 -9.718553\n",
       "1  10.204446 -9.430431\n",
       "2  10.215465 -9.604243\n",
       "3  10.209994 -9.768485\n",
       "4  10.424260 -9.537114"
      ]
     },
     "execution_count": 12,
     "metadata": {},
     "output_type": "execute_result"
    }
   ],
   "source": [
    "# Your code here:\n",
    "\n",
    "pca = PCA(n_components=2)\n",
    "\n",
    "principalComponents = pca.fit_transform(pet_std)\n",
    "\n",
    "principalDataframe = pd.DataFrame(data = principalComponents, columns = ['PC1', 'PC2'])\n",
    "principalDataframe.head()"
   ]
  },
  {
   "cell_type": "code",
   "execution_count": 13,
   "metadata": {
    "ExecuteTime": {
     "end_time": "2020-03-23T18:15:04.856130Z",
     "start_time": "2020-03-23T18:15:04.848130Z"
    }
   },
   "outputs": [],
   "source": [
    "colors = ['blue']*2048+['red']*2048"
   ]
  },
  {
   "cell_type": "code",
   "execution_count": 14,
   "metadata": {
    "ExecuteTime": {
     "end_time": "2020-03-23T18:15:05.300155Z",
     "start_time": "2020-03-23T18:15:04.856130Z"
    }
   },
   "outputs": [
    {
     "data": {
      "text/plain": [
       "Text(0, 0.5, 'PC2')"
      ]
     },
     "execution_count": 14,
     "metadata": {},
     "output_type": "execute_result"
    },
    {
     "data": {
      "image/png": "[encoded data removed]",
      "text/plain": [
       "<Figure size 432x288 with 1 Axes>"
      ]
     },
     "metadata": {
      "needs_background": "light"
     },
     "output_type": "display_data"
    }
   ],
   "source": [
    "plt.scatter(principalDataframe.PC1, principalDataframe.PC2, c=colors)\n",
    "plt.title('PC1 against PC2')\n",
    "plt.xlabel('PC1')\n",
    "plt.ylabel('PC2')"
   ]
  },
  {
   "cell_type": "markdown",
   "metadata": {},
   "source": [
    "Use `numpy` to find to transpose the standardized pet array. This will help us compute the projection."
   ]
  },
  {
   "cell_type": "code",
   "execution_count": 15,
   "metadata": {
    "ExecuteTime": {
     "end_time": "2020-03-23T18:15:05.308133Z",
     "start_time": "2020-03-23T18:15:05.300155Z"
    }
   },
   "outputs": [
    {
     "data": {
      "text/plain": [
       "array([[ 2.37662907,  2.37662907,  2.37662907, ...,  0.22755315,\n",
       "         0.22755315,  0.22755315],\n",
       "       [-0.30753004, -0.40500299, -0.68349716, ..., -0.68349716,\n",
       "        -0.40500299, -0.40500299],\n",
       "       [ 0.93254857,  1.15681724,  0.93254857, ...,  0.63352369,\n",
       "         0.35941754,  0.35941754],\n",
       "       ...,\n",
       "       [-1.80817356, -2.06459792, -1.73124626, ..., -0.65426398,\n",
       "        -0.32091232, -0.67990641],\n",
       "       [ 1.42293481,  1.44036713,  1.45779946, ...,  0.67334483,\n",
       "         0.70820948,  0.62104786],\n",
       "       [-0.20363951, -0.05437635, -0.07925354, ...,  0.11976401,\n",
       "        -0.45241144,  0.09488681]])"
      ]
     },
     "execution_count": 15,
     "metadata": {},
     "output_type": "execute_result"
    }
   ],
   "source": [
    "# Your code here:\n",
    "\n",
    "pet_T = pet_std.transpose()\n",
    "pet_T"
   ]
  },
  {
   "cell_type": "markdown",
   "metadata": {},
   "source": [
    "Find the dot product of the transposed standardized pet matrix and the `factors` of the `PCA` model found above. This will be the projection onto 2 dimensions. This means that each cat and dog image will now only have two columns instead of 4096."
   ]
  },
  {
   "cell_type": "code",
   "execution_count": 16,
   "metadata": {
    "ExecuteTime": {
     "end_time": "2020-03-23T18:15:05.324133Z",
     "start_time": "2020-03-23T18:15:05.308133Z"
    }
   },
   "outputs": [
    {
     "data": {
      "text/plain": [
       "array([[ 14348.5140149 ,  -3981.25936618],\n",
       "       [ 10873.02278261,   5211.50987812],\n",
       "       [ -4378.84808873,   4874.92297652],\n",
       "       [  1717.0074748 ,   8914.44342086],\n",
       "       [ 11101.8840124 ,  -1114.37058889],\n",
       "       [ -2968.69196385,  12223.60238823],\n",
       "       [  7483.06180341,   3579.58630038],\n",
       "       [  4833.63701015,  10566.11858919],\n",
       "       [  4191.47397955,  10471.82325966],\n",
       "       [ 13334.74076692,   -597.04219952],\n",
       "       [   118.38415898,   9615.53095291],\n",
       "       [  7355.88382923,   4776.33044098],\n",
       "       [  2874.48879528,   4525.68966601],\n",
       "       [ -1033.48453895,   4864.29699931],\n",
       "       [  6479.84258294,   8603.5739757 ],\n",
       "       [  5938.77321486,   9088.02919654],\n",
       "       [  5412.98961296,   2248.43884127],\n",
       "       [ 13186.93811966,   5746.1923521 ],\n",
       "       [  6217.39370652,   7773.48495872],\n",
       "       [  5259.36309468,  12111.02646509],\n",
       "       [ -1224.55684568,   9684.24353101],\n",
       "       [   545.64281327,  10373.06455253],\n",
       "       [  3317.29729703,   4130.01664112],\n",
       "       [  4008.83807463,  11060.20401587],\n",
       "       [  9166.89851655,   8303.43503042],\n",
       "       [    76.79809935,  11712.34490185],\n",
       "       [ -1253.36447682,   7792.92122291],\n",
       "       [   301.47690979,   6195.38164325],\n",
       "       [  4596.55032121,  12812.53050244],\n",
       "       [  3279.02471391,   6686.88529665],\n",
       "       [  1618.3275759 ,   8292.43339187],\n",
       "       [  2496.62005805,   7304.55497977],\n",
       "       [ 10175.68550515,   7913.1823217 ],\n",
       "       [  4459.79671219,   9600.56793116],\n",
       "       [ -2453.70336824,  10334.52628804],\n",
       "       [  5357.58664711,   4019.74299006],\n",
       "       [ -4797.73248608,  10256.30246441],\n",
       "       [   475.36594165,   8548.30948307],\n",
       "       [ -2221.68606916,  11645.36323756],\n",
       "       [  9681.73484793,   5150.36972135],\n",
       "       [  5759.53696578,  10855.03633398],\n",
       "       [  3876.90018971,  -4513.32763499],\n",
       "       [ -3402.6876957 ,   8888.40820442],\n",
       "       [  5129.8928359 ,   7336.80828275],\n",
       "       [ -2722.85189434,   4363.9242685 ],\n",
       "       [  6834.33743208,  -6062.08259662],\n",
       "       [  8975.72411762,  -2271.50580149],\n",
       "       [  2350.51421601,   2165.33403575],\n",
       "       [  5151.35683333,  -3191.85533209],\n",
       "       [ -5578.66851099,   9319.56421818],\n",
       "       [  9957.54405113,  -2996.33655308],\n",
       "       [ 12384.19423348,  -7237.63246055],\n",
       "       [  2065.89276081,  -4095.95816428],\n",
       "       [ -7365.23124423,  10883.19301002],\n",
       "       [ -7290.94747768,   1344.72733921],\n",
       "       [ -4730.48424258,   1014.1341392 ],\n",
       "       [  9846.6114488 ,  -1684.83987896],\n",
       "       [  5013.19116855,  -3296.67922014],\n",
       "       [ -5624.15299966,   7272.06402157],\n",
       "       [  -699.72884281,   8205.26735648],\n",
       "       [  2615.24350205,  10581.20699265],\n",
       "       [ 10477.51871097,  -5809.03549581],\n",
       "       [ 10474.3933465 ,  -1491.34654817],\n",
       "       [ -7749.79937422,   -796.22524787],\n",
       "       [ -3611.89049829,   2412.14290123],\n",
       "       [  9229.22904297,     31.48360238],\n",
       "       [  1714.21650855,  -5943.16054501],\n",
       "       [-10885.35617874,   3089.94328222],\n",
       "       [  -777.33566254,    882.9721461 ],\n",
       "       [  7654.98788121,   7829.01463528],\n",
       "       [ -3583.33537021,   3181.29117314],\n",
       "       [  -340.30949494,   8636.10254578],\n",
       "       [  8924.0436983 ,   6849.44281755],\n",
       "       [ -7119.16639689,   6520.90346459],\n",
       "       [  3469.77551828,  -6771.40521102],\n",
       "       [ 13467.53784841,  -1589.17406993],\n",
       "       [ 11225.06257254,   2345.05880206],\n",
       "       [ -2797.49539134,   9367.54894881],\n",
       "       [ -1132.22320986,   8977.37886384],\n",
       "       [ 13177.99793884,   -724.34584549],\n",
       "       [ -5288.22176563,  -3846.21412843],\n",
       "       [-16785.395571  ,   -276.0096828 ],\n",
       "       [ 16270.01003618,  -1015.1451348 ],\n",
       "       [ 13851.7893805 ,    361.36833559],\n",
       "       [-10194.47703455,  -4735.15684006],\n",
       "       [ -7049.21629526,  -8906.64230529],\n",
       "       [-13986.21247714,    802.51010685],\n",
       "       [ -1761.11817991,  -4594.97950924],\n",
       "       [-14309.89239778,  -2060.97152934],\n",
       "       [ -7107.8196752 ,  -4658.84977401],\n",
       "       [    21.97231604,  -1258.96257521],\n",
       "       [  1945.92813243,  -1193.8023948 ],\n",
       "       [-17497.27387562,  -2678.72033194],\n",
       "       [-10242.61544099,  -3220.4067364 ],\n",
       "       [  9761.44071744,  -3721.69001136],\n",
       "       [-13228.27939336,  -4448.49641393],\n",
       "       [  9780.37391422,  -2950.13433596],\n",
       "       [-11229.56457041,  -2833.97049745],\n",
       "       [ 14468.45334087,    213.89665206],\n",
       "       [-17092.00229359,  -1336.11164094],\n",
       "       [  3709.03985876,  -3305.8500776 ],\n",
       "       [-12002.49701036,    504.80303071],\n",
       "       [-11997.64944385,   3527.45715648],\n",
       "       [-11495.59263391,   8686.63581142],\n",
       "       [ 17430.58129394,  -1590.07435083],\n",
       "       [ -2377.41028462,   5857.83143004],\n",
       "       [-11805.90368703,  -4871.48077481],\n",
       "       [-10667.36556085,   4920.69300185],\n",
       "       [  7227.47626044,   -676.75331938],\n",
       "       [ -7056.49386302,  -2816.93964207],\n",
       "       [  -827.69213007,  -4509.30513513],\n",
       "       [  4180.22792123,  -4176.51655726],\n",
       "       [ -6233.48258816,  -8005.23514108],\n",
       "       [ 17881.12662006,  -3025.22109132],\n",
       "       [-17265.18162209,    565.43926383],\n",
       "       [ -2565.78368428,   3234.98770524],\n",
       "       [ 17052.83214946,    519.08190204],\n",
       "       [-14522.42865086,  -2136.85191756],\n",
       "       [ -7077.75138905,   5503.67407612],\n",
       "       [ -5248.87168895,  -3876.33924441],\n",
       "       [ -2473.65523378,  -5266.9788456 ],\n",
       "       [ -9167.89428182,  -4908.81894657],\n",
       "       [-18395.7857488 ,   3924.76644694],\n",
       "       [-10813.44117801,   5573.03966673],\n",
       "       [-17509.76643724,   5089.75177288],\n",
       "       [ 11302.3668202 ,  -4028.95280487],\n",
       "       [ 11510.07588968,   1220.12871679],\n",
       "       [  9694.41646547,  -2679.95704439],\n",
       "       [-17134.0162885 ,   1324.81955694],\n",
       "       [   404.94373407,  -2287.77941569],\n",
       "       [ -8433.06123348,  -4088.4531558 ],\n",
       "       [ -5376.37062626,   3195.48575678],\n",
       "       [-15589.91313385,  -4216.6382265 ],\n",
       "       [-12168.29869747,  -3578.51138834],\n",
       "       [  6274.43801374,  -5539.79344175],\n",
       "       [-13139.25601761,  -4849.39585608],\n",
       "       [-12272.4579491 ,  -5969.00679694],\n",
       "       [ -6590.70328117,   2501.37600578],\n",
       "       [ 11135.50820494,  -7493.70397735],\n",
       "       [ -7340.14553122,   9242.91784373],\n",
       "       [  -586.75891987,    325.62017851],\n",
       "       [ -7224.1092646 ,  -3839.5749347 ],\n",
       "       [-13343.09907379,  -2831.36709783],\n",
       "       [-14208.557362  ,   2966.08202701],\n",
       "       [  8477.91980687,   -645.24099591],\n",
       "       [ -2376.70334212,  -4996.24216085],\n",
       "       [ 17235.50409404,  -2079.06070389],\n",
       "       [ -1213.02141579,    110.15746018],\n",
       "       [  7514.96555216,  -1770.78924718],\n",
       "       [ 11034.72200888,   1242.03444372],\n",
       "       [  5308.59645922,   -975.06410097],\n",
       "       [-11831.50674982,   3244.82701276],\n",
       "       [ -3711.99453038,  -3907.36336765],\n",
       "       [   677.47311828,   1036.97375054],\n",
       "       [  3745.53805852,    178.54470018],\n",
       "       [ -9083.16429413,   5162.86599717],\n",
       "       [-11127.61797989,   6407.59379388],\n",
       "       [-15434.30445842,   3475.07599964],\n",
       "       [  5767.39027016,   1036.51747653],\n",
       "       [ -2729.02756855,  -3500.99763976]])"
      ]
     },
     "execution_count": 16,
     "metadata": {},
     "output_type": "execute_result"
    }
   ],
   "source": [
    "# Your code here:\n",
    "\n",
    "#???????? are factors of PCA principal componenets??\n",
    "\n",
    "pet_dot = np.dot(pet_T, principalComponents)\n",
    "pet_dot"
   ]
  },
  {
   "cell_type": "code",
   "execution_count": null,
   "metadata": {},
   "outputs": [],
   "source": []
  },
  {
   "cell_type": "markdown",
   "metadata": {},
   "source": [
    "# Challenge 3 - Plotting the Data\n",
    "\n",
    "Now that we have reduced our cats and dogs arrays, we can easily plot the data in a way that the human eye can understand. We can look at this plot to see whether there are differences between the cat and dog images. \n",
    "\n",
    "In the cell below, turn the two dimensional projection into a pandas dataframe and name the columns `pc1`, and `pc2` respectively."
   ]
  },
  {
   "cell_type": "code",
   "execution_count": 17,
   "metadata": {
    "ExecuteTime": {
     "end_time": "2020-03-23T18:15:05.340133Z",
     "start_time": "2020-03-23T18:15:05.328134Z"
    }
   },
   "outputs": [
    {
     "data": {
      "text/html": [
       "<div>\n",
       "<style scoped>\n",
       "    .dataframe tbody tr th:only-of-type {\n",
       "        vertical-align: middle;\n",
       "    }\n",
       "\n",
       "    .dataframe tbody tr th {\n",
       "        vertical-align: top;\n",
       "    }\n",
       "\n",
       "    .dataframe thead th {\n",
       "        text-align: right;\n",
       "    }\n",
       "</style>\n",
       "<table border=\"1\" class=\"dataframe\">\n",
       "  <thead>\n",
       "    <tr style=\"text-align: right;\">\n",
       "      <th></th>\n",
       "      <th>pc1</th>\n",
       "      <th>pc2</th>\n",
       "    </tr>\n",
       "  </thead>\n",
       "  <tbody>\n",
       "    <tr>\n",
       "      <td>0</td>\n",
       "      <td>14348.514015</td>\n",
       "      <td>-3981.259366</td>\n",
       "    </tr>\n",
       "    <tr>\n",
       "      <td>1</td>\n",
       "      <td>10873.022783</td>\n",
       "      <td>5211.509878</td>\n",
       "    </tr>\n",
       "    <tr>\n",
       "      <td>2</td>\n",
       "      <td>-4378.848089</td>\n",
       "      <td>4874.922977</td>\n",
       "    </tr>\n",
       "    <tr>\n",
       "      <td>3</td>\n",
       "      <td>1717.007475</td>\n",
       "      <td>8914.443421</td>\n",
       "    </tr>\n",
       "    <tr>\n",
       "      <td>4</td>\n",
       "      <td>11101.884012</td>\n",
       "      <td>-1114.370589</td>\n",
       "    </tr>\n",
       "  </tbody>\n",
       "</table>\n",
       "</div>"
      ],
      "text/plain": [
       "            pc1          pc2\n",
       "0  14348.514015 -3981.259366\n",
       "1  10873.022783  5211.509878\n",
       "2  -4378.848089  4874.922977\n",
       "3   1717.007475  8914.443421\n",
       "4  11101.884012 -1114.370589"
      ]
     },
     "execution_count": 17,
     "metadata": {},
     "output_type": "execute_result"
    }
   ],
   "source": [
    "# Your code here:\n",
    "\n",
    "pet_df = pd.DataFrame(data = pet_dot, columns = ['pc1', 'pc2'])\n",
    "pet_df.head()"
   ]
  },
  {
   "cell_type": "markdown",
   "metadata": {},
   "source": [
    "Create a labels list. This list will be of size 160. The first 80 elements in the list will be the word `blue`, and the last 80 elements will be `red`. This will ensure that all dog observations will be colored in blue and all cats will be colored in red. Name this list `colors`."
   ]
  },
  {
   "cell_type": "code",
   "execution_count": 18,
   "metadata": {
    "ExecuteTime": {
     "end_time": "2020-03-23T18:15:05.348136Z",
     "start_time": "2020-03-23T18:15:05.340133Z"
    }
   },
   "outputs": [],
   "source": [
    "# Your code here:\n",
    "\n",
    "colors = ['blue']*80+['red']*80"
   ]
  },
  {
   "cell_type": "markdown",
   "metadata": {},
   "source": [
    "Create a scatter plot of `pc1` and `pc2` below. Use the `colors` list above to color the observations by setting `c=colors`."
   ]
  },
  {
   "cell_type": "code",
   "execution_count": 19,
   "metadata": {
    "ExecuteTime": {
     "end_time": "2020-03-23T18:15:05.564136Z",
     "start_time": "2020-03-23T18:15:05.348136Z"
    }
   },
   "outputs": [
    {
     "data": {
      "text/plain": [
       "Text(0, 0.5, 'PC2')"
      ]
     },
     "execution_count": 19,
     "metadata": {},
     "output_type": "execute_result"
    },
    {
     "data": {
      "image/png": "[encoded data removed]",
      "text/plain": [
       "<Figure size 432x288 with 1 Axes>"
      ]
     },
     "metadata": {
      "needs_background": "light"
     },
     "output_type": "display_data"
    }
   ],
   "source": [
    "# Your code here:\n",
    "\n",
    "plt.scatter(pet_df.pc1, pet_df.pc2, c=colors)\n",
    "plt.title('PC1 against PC2')\n",
    "plt.xlabel('PC1')\n",
    "plt.ylabel('PC2')"
   ]
  },
  {
   "cell_type": "markdown",
   "metadata": {},
   "source": [
    "Do you see a clear separation between cats and dogs? Write your answer below."
   ]
  },
  {
   "cell_type": "code",
   "execution_count": 20,
   "metadata": {
    "ExecuteTime": {
     "end_time": "2020-03-23T18:15:05.568133Z",
     "start_time": "2020-03-23T18:15:05.564136Z"
    }
   },
   "outputs": [],
   "source": [
    "# Your conclusions here:\n",
    "\n",
    "#separation is clear but there quite a lot of points mixing"
   ]
  },
  {
   "cell_type": "code",
   "execution_count": null,
   "metadata": {},
   "outputs": [],
   "source": []
  }
 ],
 "metadata": {
  "kernelspec": {
   "display_name": "Python 3",
   "language": "python",
   "name": "python3"
  },
  "language_info": {
   "codemirror_mode": {
    "name": "ipython",
    "version": 3
   },
   "file_extension": ".py",
   "mimetype": "text/x-python",
   "name": "python",
   "nbconvert_exporter": "python",
   "pygments_lexer": "ipython3",
   "version": "3.7.4"
  },
  "toc": {
   "base_numbering": 1,
   "nav_menu": {},
   "number_sections": true,
   "sideBar": true,
   "skip_h1_title": false,
   "title_cell": "Table of Contents",
   "title_sidebar": "Contents",
   "toc_cell": false,
   "toc_position": {},
   "toc_section_display": true,
   "toc_window_display": false
  },
  "varInspector": {
   "cols": {
    "lenName": 16,
    "lenType": 16,
    "lenVar": 40
   },
   "kernels_config": {
    "python": {
     "delete_cmd_postfix": "",
     "delete_cmd_prefix": "del ",
     "library": "var_list.py",
     "varRefreshCmd": "print(var_dic_list())"
    },
    "r": {
     "delete_cmd_postfix": ") ",
     "delete_cmd_prefix": "rm(",
     "library": "var_list.r",
     "varRefreshCmd": "cat(var_dic_list()) "
    }
   },
   "types_to_exclude": [
    "module",
    "function",
    "builtin_function_or_method",
    "instance",
    "_Feature"
   ],
   "window_display": false
  }
 },
 "nbformat": 4,
 "nbformat_minor": 2
}
