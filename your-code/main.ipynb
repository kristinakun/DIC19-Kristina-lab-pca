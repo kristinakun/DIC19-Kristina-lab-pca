{
 "cells": [
  {
   "cell_type": "markdown",
   "metadata": {},
   "source": [
    "# Before your start:\n",
    "- Read the README.md file\n",
    "- Comment as much as you can and use the resources (README.md file)\n",
    "- Happy learning!"
   ]
  },
  {
   "cell_type": "code",
   "execution_count": 1,
   "metadata": {
    "ExecuteTime": {
     "end_time": "2020-03-27T20:03:06.496367Z",
     "start_time": "2020-03-27T20:03:05.855270Z"
    }
   },
   "outputs": [],
   "source": [
    "# Run this code:\n",
    "\n",
    "%matplotlib inline\n",
    "\n",
    "import matplotlib.pyplot as plt"
   ]
  },
  {
   "cell_type": "code",
   "execution_count": 2,
   "metadata": {
    "ExecuteTime": {
     "end_time": "2020-03-27T20:03:09.947817Z",
     "start_time": "2020-03-27T20:03:06.500625Z"
    }
   },
   "outputs": [],
   "source": [
    "# Import numpy and pandas:\n",
    "\n",
    "import pandas as pd\n",
    "import numpy as np\n",
    "\n",
    "from sklearn.decomposition import PCA\n",
    "from sklearn import preprocessing\n"
   ]
  },
  {
   "cell_type": "markdown",
   "metadata": {},
   "source": [
    "# Challenge 1 - Reading and Standardizing the Data\n",
    "\n",
    "In this challenge we will work with image data and reduce the dimensions of the data to create a 2 dimensional plot. While we have not worked much with image data before, it can be represented as a numpy array where each pixel is assigned a numeric value. In this lesson, we will look at a dataset of cats and a dataset of dogs and see whether reducing them to two dimensions allows us to see if the data is separable. We will start by loading and processing the data. Run the cell below to load the two csv files and convert them into numpy arrays."
   ]
  },
  {
   "cell_type": "code",
   "execution_count": 3,
   "metadata": {
    "ExecuteTime": {
     "end_time": "2020-03-27T20:03:15.502962Z",
     "start_time": "2020-03-27T20:03:09.951411Z"
    }
   },
   "outputs": [],
   "source": [
    "# Run this code\n",
    "\n",
    "cats = np.array(pd.read_csv(\"https://raw.githubusercontent.com/bioramble/pca/master/cat.csv\", header=None))\n",
    "dogs = np.array(pd.read_csv(\"https://raw.githubusercontent.com/bioramble/pca/master/dog.csv\", header=None))"
   ]
  },
  {
   "cell_type": "markdown",
   "metadata": {},
   "source": [
    "Next, we'll examine the shape of both the cats and the dogs arrays. Print out both shapes below."
   ]
  },
  {
   "cell_type": "code",
   "execution_count": 4,
   "metadata": {
    "ExecuteTime": {
     "end_time": "2020-03-27T20:03:15.515107Z",
     "start_time": "2020-03-27T20:03:15.506952Z"
    }
   },
   "outputs": [
    {
     "name": "stdout",
     "output_type": "stream",
     "text": [
      "(4096, 80)\n",
      "(4096, 80)\n"
     ]
    }
   ],
   "source": [
    "# Your code here:\n",
    "\n",
    "print(cats.shape)\n",
    "print(dogs.shape)"
   ]
  },
  {
   "cell_type": "markdown",
   "metadata": {},
   "source": [
    "What this means is that both arrays contain 80 images each (the number of columns). Each image is comprised of 64x64 pixels (so a total of 4096 pixels per image). The images have been flattened such that all 4096 are in a single row.\n",
    "\n",
    "Print out column 0 of the cats array to see what the pixels values look like."
   ]
  },
  {
   "cell_type": "code",
   "execution_count": 5,
   "metadata": {
    "ExecuteTime": {
     "end_time": "2020-03-27T20:03:15.524905Z",
     "start_time": "2020-03-27T20:03:15.516924Z"
    }
   },
   "outputs": [
    {
     "name": "stdout",
     "output_type": "stream",
     "text": [
      "[64 64 64 ... 64 64 61]\n"
     ]
    }
   ],
   "source": [
    "# Your code here:\n",
    "print(cats[:,0])"
   ]
  },
  {
   "cell_type": "markdown",
   "metadata": {},
   "source": [
    "Using `matplotlib` we can plot a single cat or a single dog. We do this by reshaping the vector back to a 64x64 image and then using the `imshow` function.\n",
    "\n",
    "Run the code below to look at the first dog and the first cat."
   ]
  },
  {
   "cell_type": "code",
   "execution_count": 6,
   "metadata": {
    "ExecuteTime": {
     "end_time": "2020-03-27T20:03:15.834078Z",
     "start_time": "2020-03-27T20:03:15.528892Z"
    }
   },
   "outputs": [
    {
     "data": {
      "text/plain": [
       "<matplotlib.image.AxesImage at 0x2d31388b408>"
      ]
     },
     "execution_count": 6,
     "metadata": {},
     "output_type": "execute_result"
    },
    {
     "data": {
      "image/png": "[encoded data removed]",
      "text/plain": [
       "<Figure size 432x288 with 1 Axes>"
      ]
     },
     "metadata": {
      "needs_background": "light"
     },
     "output_type": "display_data"
    }
   ],
   "source": [
    "# Run this code:\n",
    "\n",
    "fig, ax = plt.subplots()\n",
    "ax.imshow(cats[:,0].reshape(64, 64).T, cmap=plt.cm.bone, interpolation='nearest') "
   ]
  },
  {
   "cell_type": "code",
   "execution_count": 7,
   "metadata": {
    "ExecuteTime": {
     "end_time": "2020-03-27T20:03:16.126324Z",
     "start_time": "2020-03-27T20:03:15.837081Z"
    }
   },
   "outputs": [
    {
     "data": {
      "text/plain": [
       "<matplotlib.image.AxesImage at 0x2d313c072c8>"
      ]
     },
     "execution_count": 7,
     "metadata": {},
     "output_type": "execute_result"
    },
    {
     "data": {
      "image/png": "[encoded data removed]",
      "text/plain": [
       "<Figure size 432x288 with 1 Axes>"
      ]
     },
     "metadata": {
      "needs_background": "light"
     },
     "output_type": "display_data"
    }
   ],
   "source": [
    "# Run this code:\n",
    "\n",
    "fig, ax = plt.subplots()\n",
    "ax.imshow(dogs[:,0].reshape(64, 64).T, cmap=plt.cm.bone, interpolation='nearest') "
   ]
  },
  {
   "cell_type": "markdown",
   "metadata": {},
   "source": [
    "Next, we would like to create a standardization function. This function will find the mean and standard deviation of each image. We subtract the mean from each pixel and divide each pixel by the standard deviation. Write the function below.\n",
    "\n",
    "Hint: To find the mean and standard deviation of each image, use `numpy`'s version of mean and stadnard deviation and use `axis=0`."
   ]
  },
  {
   "cell_type": "code",
   "execution_count": 8,
   "metadata": {
    "ExecuteTime": {
     "end_time": "2020-03-27T20:03:16.136269Z",
     "start_time": "2020-03-27T20:03:16.130463Z"
    }
   },
   "outputs": [],
   "source": [
    "def standardize(x):\n",
    "    #This function takes as input a numpy array and returns a stadardized numpy array of the same dimensions.\n",
    "    #Sample input: np.array([[1,2,3],[4,5,6]])\n",
    "    #Sample output: np.array([[-1,-1,-1],[1,1,1]])\n",
    "    \n",
    "    # Your code here:\n",
    "    mean = np.mean(x, axis = 0)\n",
    "    std = np.std(x, axis = 0)\n",
    "    return (x - mean) / std"
   ]
  },
  {
   "cell_type": "markdown",
   "metadata": {},
   "source": [
    "Now, use the `np.concatenate` function to combine the cats and dogs arrays. Use `axis=1` to combine the two correctly. Make sure to put dogs first."
   ]
  },
  {
   "cell_type": "code",
   "execution_count": 9,
   "metadata": {
    "ExecuteTime": {
     "end_time": "2020-03-27T20:03:16.155219Z",
     "start_time": "2020-03-27T20:03:16.139258Z"
    }
   },
   "outputs": [
    {
     "data": {
      "text/plain": [
       "array([[224, 131, 127, ...,  60, 223, 101],\n",
       "       [224, 124, 136, ...,  50, 224, 107],\n",
       "       [224, 104, 127, ...,  63, 225, 106],\n",
       "       ...,\n",
       "       [100, 104, 115, ..., 105, 180, 114],\n",
       "       [100, 124, 104, ..., 118, 182,  91],\n",
       "       [100, 124, 104, ..., 104, 177, 113]], dtype=int64)"
      ]
     },
     "execution_count": 9,
     "metadata": {},
     "output_type": "execute_result"
    }
   ],
   "source": [
    "# Your code here:\n",
    "\n",
    "pet = np.concatenate((dogs, cats), axis=1)\n",
    "pet"
   ]
  },
  {
   "cell_type": "markdown",
   "metadata": {},
   "source": [
    "Standardize the concatenated array below."
   ]
  },
  {
   "cell_type": "code",
   "execution_count": 10,
   "metadata": {
    "ExecuteTime": {
     "end_time": "2020-03-27T20:03:16.195229Z",
     "start_time": "2020-03-27T20:03:16.158208Z"
    }
   },
   "outputs": [
    {
     "data": {
      "text/plain": [
       "array([[ 2.37662907, -0.30753004,  0.93254857, ..., -1.80817356,\n",
       "         1.42293481, -0.20363951],\n",
       "       [ 2.37662907, -0.40500299,  1.15681724, ..., -2.06459792,\n",
       "         1.44036713, -0.05437635],\n",
       "       [ 2.37662907, -0.68349716,  0.93254857, ..., -1.73124626,\n",
       "         1.45779946, -0.07925354],\n",
       "       ...,\n",
       "       [ 0.22755315, -0.68349716,  0.63352369, ..., -0.65426398,\n",
       "         0.67334483,  0.11976401],\n",
       "       [ 0.22755315, -0.40500299,  0.35941754, ..., -0.32091232,\n",
       "         0.70820948, -0.45241144],\n",
       "       [ 0.22755315, -0.40500299,  0.35941754, ..., -0.67990641,\n",
       "         0.62104786,  0.09488681]])"
      ]
     },
     "execution_count": 10,
     "metadata": {},
     "output_type": "execute_result"
    }
   ],
   "source": [
    "# Your code here:\n",
    "\n",
    "pet_std = standardize(pet)\n",
    "pet_std"
   ]
  },
  {
   "cell_type": "markdown",
   "metadata": {},
   "source": [
    "# Challenge 2 - Using PCA\n",
    "\n",
    "Now that we have created a standardized matrix of cats and dogs, we'll find the two most important components in the data.\n",
    "\n",
    "Load the `PCA` function from `statsmodels` (read about this function [here](https://www.statsmodels.org/dev/generated/statsmodels.multivariate.pca.PCA.html)) and apply the function to our standarized data. Create a PCA model with two components."
   ]
  },
  {
   "cell_type": "code",
   "execution_count": 11,
   "metadata": {
    "ExecuteTime": {
     "end_time": "2020-03-27T20:03:16.256098Z",
     "start_time": "2020-03-27T20:03:16.198102Z"
    },
    "scrolled": true
   },
   "outputs": [
    {
     "data": {
      "text/html": [
       "<div>\n",
       "<style scoped>\n",
       "    .dataframe tbody tr th:only-of-type {\n",
       "        vertical-align: middle;\n",
       "    }\n",
       "\n",
       "    .dataframe tbody tr th {\n",
       "        vertical-align: top;\n",
       "    }\n",
       "\n",
       "    .dataframe thead th {\n",
       "        text-align: right;\n",
       "    }\n",
       "</style>\n",
       "<table border=\"1\" class=\"dataframe\">\n",
       "  <thead>\n",
       "    <tr style=\"text-align: right;\">\n",
       "      <th></th>\n",
       "      <th>PC1</th>\n",
       "      <th>PC2</th>\n",
       "    </tr>\n",
       "  </thead>\n",
       "  <tbody>\n",
       "    <tr>\n",
       "      <td>0</td>\n",
       "      <td>10.057970</td>\n",
       "      <td>-9.718556</td>\n",
       "    </tr>\n",
       "    <tr>\n",
       "      <td>1</td>\n",
       "      <td>10.204446</td>\n",
       "      <td>-9.430432</td>\n",
       "    </tr>\n",
       "    <tr>\n",
       "      <td>2</td>\n",
       "      <td>10.215465</td>\n",
       "      <td>-9.604243</td>\n",
       "    </tr>\n",
       "    <tr>\n",
       "      <td>3</td>\n",
       "      <td>10.209994</td>\n",
       "      <td>-9.768486</td>\n",
       "    </tr>\n",
       "    <tr>\n",
       "      <td>4</td>\n",
       "      <td>10.424260</td>\n",
       "      <td>-9.537116</td>\n",
       "    </tr>\n",
       "  </tbody>\n",
       "</table>\n",
       "</div>"
      ],
      "text/plain": [
       "         PC1       PC2\n",
       "0  10.057970 -9.718556\n",
       "1  10.204446 -9.430432\n",
       "2  10.215465 -9.604243\n",
       "3  10.209994 -9.768486\n",
       "4  10.424260 -9.537116"
      ]
     },
     "execution_count": 11,
     "metadata": {},
     "output_type": "execute_result"
    }
   ],
   "source": [
    "# Your code here:\n",
    "\n",
    "pca = PCA(n_components=2)\n",
    "\n",
    "principalComponents = pca.fit_transform(pet_std)\n",
    "\n",
    "principalDataframe = pd.DataFrame(data = principalComponents, columns = ['PC1', 'PC2'])\n",
    "principalDataframe.head()"
   ]
  },
  {
   "cell_type": "code",
   "execution_count": 12,
   "metadata": {
    "ExecuteTime": {
     "end_time": "2020-03-27T20:03:16.263925Z",
     "start_time": "2020-03-27T20:03:16.258939Z"
    }
   },
   "outputs": [],
   "source": [
    "colors = ['blue']*2048+['red']*2048"
   ]
  },
  {
   "cell_type": "code",
   "execution_count": 13,
   "metadata": {
    "ExecuteTime": {
     "end_time": "2020-03-27T20:03:17.072766Z",
     "start_time": "2020-03-27T20:03:16.266917Z"
    }
   },
   "outputs": [
    {
     "data": {
      "text/plain": [
       "Text(0, 0.5, 'PC2')"
      ]
     },
     "execution_count": 13,
     "metadata": {},
     "output_type": "execute_result"
    },
    {
     "data": {
      "image/png": "[encoded data removed]",
      "text/plain": [
       "<Figure size 432x288 with 1 Axes>"
      ]
     },
     "metadata": {
      "needs_background": "light"
     },
     "output_type": "display_data"
    }
   ],
   "source": [
    "plt.scatter(principalDataframe.PC1, principalDataframe.PC2, c=colors)\n",
    "plt.title('PC1 against PC2')\n",
    "plt.xlabel('PC1')\n",
    "plt.ylabel('PC2')"
   ]
  },
  {
   "cell_type": "markdown",
   "metadata": {},
   "source": [
    "Use `numpy` to find to transpose the standardized pet array. This will help us compute the projection."
   ]
  },
  {
   "cell_type": "code",
   "execution_count": 14,
   "metadata": {
    "ExecuteTime": {
     "end_time": "2020-03-27T20:03:17.083734Z",
     "start_time": "2020-03-27T20:03:17.076264Z"
    }
   },
   "outputs": [
    {
     "data": {
      "text/plain": [
       "array([[ 2.37662907,  2.37662907,  2.37662907, ...,  0.22755315,\n",
       "         0.22755315,  0.22755315],\n",
       "       [-0.30753004, -0.40500299, -0.68349716, ..., -0.68349716,\n",
       "        -0.40500299, -0.40500299],\n",
       "       [ 0.93254857,  1.15681724,  0.93254857, ...,  0.63352369,\n",
       "         0.35941754,  0.35941754],\n",
       "       ...,\n",
       "       [-1.80817356, -2.06459792, -1.73124626, ..., -0.65426398,\n",
       "        -0.32091232, -0.67990641],\n",
       "       [ 1.42293481,  1.44036713,  1.45779946, ...,  0.67334483,\n",
       "         0.70820948,  0.62104786],\n",
       "       [-0.20363951, -0.05437635, -0.07925354, ...,  0.11976401,\n",
       "        -0.45241144,  0.09488681]])"
      ]
     },
     "execution_count": 14,
     "metadata": {},
     "output_type": "execute_result"
    }
   ],
   "source": [
    "# Your code here:\n",
    "\n",
    "pet_T = pet_std.transpose()\n",
    "pet_T"
   ]
  },
  {
   "cell_type": "markdown",
   "metadata": {},
   "source": [
    "Find the dot product of the transposed standardized pet matrix and the `factors` of the `PCA` model found above. This will be the projection onto 2 dimensions. This means that each cat and dog image will now only have two columns instead of 4096."
   ]
  },
  {
   "cell_type": "code",
   "execution_count": 15,
   "metadata": {
    "ExecuteTime": {
     "end_time": "2020-03-27T20:03:17.101706Z",
     "start_time": "2020-03-27T20:03:17.084730Z"
    }
   },
   "outputs": [
    {
     "data": {
      "text/plain": [
       "array([[ 14348.51403698,  -3981.25918635],\n",
       "       [ 10873.02273053,   5211.51018251],\n",
       "       [ -4378.84820134,   4874.92300881],\n",
       "       [  1717.00757014,   8914.44124622],\n",
       "       [ 11101.88403439,  -1114.37014296],\n",
       "       [ -2968.69191797,  12223.60181807],\n",
       "       [  7483.0618472 ,   3579.5891394 ],\n",
       "       [  4833.63701101,  10566.11820767],\n",
       "       [  4191.47401955,  10471.82375489],\n",
       "       [ 13334.74077854,   -597.04259374],\n",
       "       [   118.38408454,   9615.53067888],\n",
       "       [  7355.88389968,   4776.32882454],\n",
       "       [  2874.48875877,   4525.68950469],\n",
       "       [ -1033.48453886,   4864.29765018],\n",
       "       [  6479.84255927,   8603.57352383],\n",
       "       [  5938.77318994,   9088.02834912],\n",
       "       [  5412.98965341,   2248.43961988],\n",
       "       [ 13186.93811368,   5746.19346558],\n",
       "       [  6217.39375302,   7773.48475952],\n",
       "       [  5259.36309777,  12111.02563739],\n",
       "       [ -1224.55690095,   9684.24404034],\n",
       "       [   545.64278847,  10373.0644566 ],\n",
       "       [  3317.29736046,   4130.01540748],\n",
       "       [  4008.838053  ,  11060.20502061],\n",
       "       [  9166.89854588,   8303.43481185],\n",
       "       [    76.79808485,  11712.34603192],\n",
       "       [ -1253.36449183,   7792.92178299],\n",
       "       [   301.47687222,   6195.38088789],\n",
       "       [  4596.55028312,  12812.53049967],\n",
       "       [  3279.02475956,   6686.88525382],\n",
       "       [  1618.32751181,   8292.43309679],\n",
       "       [  2496.62001942,   7304.55551572],\n",
       "       [ 10175.68553038,   7913.18265549],\n",
       "       [  4459.79677878,   9600.56812735],\n",
       "       [ -2453.7033838 ,  10334.52612511],\n",
       "       [  5357.5865919 ,   4019.74278833],\n",
       "       [ -4797.73246535,  10256.30156395],\n",
       "       [   475.36590926,   8548.30960369],\n",
       "       [ -2221.68607351,  11645.36448927],\n",
       "       [  9681.73485462,   5150.36905203],\n",
       "       [  5759.53700196,  10855.03710765],\n",
       "       [  3876.90010213,  -4513.32778884],\n",
       "       [ -3402.68775657,   8888.40759357],\n",
       "       [  5129.8928851 ,   7336.80827567],\n",
       "       [ -2722.85190705,   4363.92461909],\n",
       "       [  6834.33754551,  -6062.08410897],\n",
       "       [  8975.72410547,  -2271.50538226],\n",
       "       [  2350.51417346,   2165.33418421],\n",
       "       [  5151.35684725,  -3191.85460329],\n",
       "       [ -5578.66851673,   9319.56457913],\n",
       "       [  9957.54410674,  -2996.33645527],\n",
       "       [ 12384.19420977,  -7237.63030807],\n",
       "       [  2065.89274024,  -4095.95725824],\n",
       "       [ -7365.23125476,  10883.19373101],\n",
       "       [ -7290.94749289,   1344.72613024],\n",
       "       [ -4730.48419539,   1014.13245667],\n",
       "       [  9846.61146268,  -1684.84089079],\n",
       "       [  5013.1912232 ,  -3296.68085612],\n",
       "       [ -5624.1530722 ,   7272.06483145],\n",
       "       [  -699.72888549,   8205.26770523],\n",
       "       [  2615.24356918,  10581.20762986],\n",
       "       [ 10477.51875026,  -5809.03512747],\n",
       "       [ 10474.39337825,  -1491.34645478],\n",
       "       [ -7749.79936306,   -796.224525  ],\n",
       "       [ -3611.89042386,   2412.14168846],\n",
       "       [  9229.22909079,     31.48469723],\n",
       "       [  1714.2164429 ,  -5943.15941215],\n",
       "       [-10885.35619726,   3089.94480395],\n",
       "       [  -777.33561539,    882.97178628],\n",
       "       [  7654.98787172,   7829.01544987],\n",
       "       [ -3583.33526999,   3181.29009208],\n",
       "       [  -340.3096165 ,   8636.10282604],\n",
       "       [  8924.04377162,   6849.44293305],\n",
       "       [ -7119.16638742,   6520.90379219],\n",
       "       [  3469.7755383 ,  -6771.40482539],\n",
       "       [ 13467.53780925,  -1589.17350419],\n",
       "       [ 11225.06254732,   2345.05994501],\n",
       "       [ -2797.49534659,   9367.54864778],\n",
       "       [ -1132.22314947,   8977.37843605],\n",
       "       [ 13177.99794335,   -724.34661733],\n",
       "       [ -5288.22176572,  -3846.21499004],\n",
       "       [-16785.39558307,   -276.00918703],\n",
       "       [ 16270.0100497 ,  -1015.14542967],\n",
       "       [ 13851.78940965,    361.36749327],\n",
       "       [-10194.47702858,  -4735.15800347],\n",
       "       [ -7049.21628604,  -8906.64182763],\n",
       "       [-13986.2124506 ,    802.51168532],\n",
       "       [ -1761.11822646,  -4594.97974233],\n",
       "       [-14309.89230238,  -2060.9715716 ],\n",
       "       [ -7107.8195963 ,  -4658.84913807],\n",
       "       [    21.97240856,  -1258.96157979],\n",
       "       [  1945.92825858,  -1193.80229436],\n",
       "       [-17497.27383827,  -2678.72054502],\n",
       "       [-10242.6154365 ,  -3220.40737853],\n",
       "       [  9761.44070791,  -3721.68907503],\n",
       "       [-13228.27939673,  -4448.4965887 ],\n",
       "       [  9780.37396753,  -2950.1347135 ],\n",
       "       [-11229.56454717,  -2833.9703837 ],\n",
       "       [ 14468.45330631,    213.89600374],\n",
       "       [-17092.00226207,  -1336.11175107],\n",
       "       [  3709.03985782,  -3305.85230898],\n",
       "       [-12002.49697494,    504.80278435],\n",
       "       [-11997.64942254,   3527.45734237],\n",
       "       [-11495.59258704,   8686.63532664],\n",
       "       [ 17430.58127954,  -1590.07406574],\n",
       "       [ -2377.41015487,   5857.8311194 ],\n",
       "       [-11805.90370938,  -4871.48047294],\n",
       "       [-10667.36554145,   4920.69353287],\n",
       "       [  7227.47628617,   -676.75285815],\n",
       "       [ -7056.49382673,  -2816.93919254],\n",
       "       [  -827.69199943,  -4509.30620661],\n",
       "       [  4180.22789024,  -4176.51662623],\n",
       "       [ -6233.48258797,  -8005.2347865 ],\n",
       "       [ 17881.12661804,  -3025.22121882],\n",
       "       [-17265.18163459,    565.43944349],\n",
       "       [ -2565.78361902,   3234.98573828],\n",
       "       [ 17052.83222006,    519.08123971],\n",
       "       [-14522.42862874,  -2136.85253706],\n",
       "       [ -7077.75132815,   5503.67252342],\n",
       "       [ -5248.87170383,  -3876.33897811],\n",
       "       [ -2473.65522836,  -5266.97880753],\n",
       "       [ -9167.89428399,  -4908.81759198],\n",
       "       [-18395.78576644,   3924.76651987],\n",
       "       [-10813.44114916,   5573.04110129],\n",
       "       [-17509.7664663 ,   5089.75207595],\n",
       "       [ 11302.36681364,  -4028.95281178],\n",
       "       [ 11510.07593125,   1220.12885648],\n",
       "       [  9694.41651438,  -2679.95754419],\n",
       "       [-17134.01628593,   1324.81974821],\n",
       "       [   404.94377325,  -2287.77855892],\n",
       "       [ -8433.0612192 ,  -4088.45288911],\n",
       "       [ -5376.37054907,   3195.486636  ],\n",
       "       [-15589.91314894,  -4216.63781487],\n",
       "       [-12168.29866037,  -3578.51108441],\n",
       "       [  6274.43808398,  -5539.79358573],\n",
       "       [-13139.25601621,  -4849.39673737],\n",
       "       [-12272.45794262,  -5969.00712725],\n",
       "       [ -6590.7031507 ,   2501.37644302],\n",
       "       [ 11135.50822765,  -7493.70267149],\n",
       "       [ -7340.14548005,   9242.91838439],\n",
       "       [  -586.75885707,    325.61838175],\n",
       "       [ -7224.10928518,  -3839.5754402 ],\n",
       "       [-13343.09913304,  -2831.36775007],\n",
       "       [-14208.55728307,   2966.08166175],\n",
       "       [  8477.91979985,   -645.24239384],\n",
       "       [ -2376.70335805,  -4996.24339652],\n",
       "       [ 17235.50411988,  -2079.06043271],\n",
       "       [ -1213.02137396,    110.15790585],\n",
       "       [  7514.96563259,  -1770.78898498],\n",
       "       [ 11034.72203127,   1242.03320866],\n",
       "       [  5308.59641418,   -975.06333153],\n",
       "       [-11831.5067268 ,   3244.8265267 ],\n",
       "       [ -3711.99449557,  -3907.3617406 ],\n",
       "       [   677.47322176,   1036.97336028],\n",
       "       [  3745.53809166,    178.54438673],\n",
       "       [ -9083.16430764,   5162.86640654],\n",
       "       [-11127.6179277 ,   6407.59394524],\n",
       "       [-15434.30445529,   3475.07532552],\n",
       "       [  5767.39025457,   1036.51754937],\n",
       "       [ -2729.02745549,  -3500.99738216]])"
      ]
     },
     "execution_count": 15,
     "metadata": {},
     "output_type": "execute_result"
    }
   ],
   "source": [
    "# Your code here:\n",
    "\n",
    "pet_dot = np.dot(pet_T, principalComponents)\n",
    "pet_dot"
   ]
  },
  {
   "cell_type": "code",
   "execution_count": null,
   "metadata": {},
   "outputs": [],
   "source": []
  },
  {
   "cell_type": "markdown",
   "metadata": {},
   "source": [
    "# Challenge 3 - Plotting the Data\n",
    "\n",
    "Now that we have reduced our cats and dogs arrays, we can easily plot the data in a way that the human eye can understand. We can look at this plot to see whether there are differences between the cat and dog images. \n",
    "\n",
    "In the cell below, turn the two dimensional projection into a pandas dataframe and name the columns `pc1`, and `pc2` respectively."
   ]
  },
  {
   "cell_type": "code",
   "execution_count": 16,
   "metadata": {
    "ExecuteTime": {
     "end_time": "2020-03-27T20:03:17.116644Z",
     "start_time": "2020-03-27T20:03:17.105735Z"
    }
   },
   "outputs": [
    {
     "data": {
      "text/html": [
       "<div>\n",
       "<style scoped>\n",
       "    .dataframe tbody tr th:only-of-type {\n",
       "        vertical-align: middle;\n",
       "    }\n",
       "\n",
       "    .dataframe tbody tr th {\n",
       "        vertical-align: top;\n",
       "    }\n",
       "\n",
       "    .dataframe thead th {\n",
       "        text-align: right;\n",
       "    }\n",
       "</style>\n",
       "<table border=\"1\" class=\"dataframe\">\n",
       "  <thead>\n",
       "    <tr style=\"text-align: right;\">\n",
       "      <th></th>\n",
       "      <th>pc1</th>\n",
       "      <th>pc2</th>\n",
       "    </tr>\n",
       "  </thead>\n",
       "  <tbody>\n",
       "    <tr>\n",
       "      <td>0</td>\n",
       "      <td>14348.514037</td>\n",
       "      <td>-3981.259186</td>\n",
       "    </tr>\n",
       "    <tr>\n",
       "      <td>1</td>\n",
       "      <td>10873.022731</td>\n",
       "      <td>5211.510183</td>\n",
       "    </tr>\n",
       "    <tr>\n",
       "      <td>2</td>\n",
       "      <td>-4378.848201</td>\n",
       "      <td>4874.923009</td>\n",
       "    </tr>\n",
       "    <tr>\n",
       "      <td>3</td>\n",
       "      <td>1717.007570</td>\n",
       "      <td>8914.441246</td>\n",
       "    </tr>\n",
       "    <tr>\n",
       "      <td>4</td>\n",
       "      <td>11101.884034</td>\n",
       "      <td>-1114.370143</td>\n",
       "    </tr>\n",
       "  </tbody>\n",
       "</table>\n",
       "</div>"
      ],
      "text/plain": [
       "            pc1          pc2\n",
       "0  14348.514037 -3981.259186\n",
       "1  10873.022731  5211.510183\n",
       "2  -4378.848201  4874.923009\n",
       "3   1717.007570  8914.441246\n",
       "4  11101.884034 -1114.370143"
      ]
     },
     "execution_count": 16,
     "metadata": {},
     "output_type": "execute_result"
    }
   ],
   "source": [
    "# Your code here:\n",
    "\n",
    "pet_df = pd.DataFrame(data = pet_dot, columns = ['pc1', 'pc2'])\n",
    "pet_df.head()"
   ]
  },
  {
   "cell_type": "markdown",
   "metadata": {},
   "source": [
    "Create a labels list. This list will be of size 160. The first 80 elements in the list will be the word `blue`, and the last 80 elements will be `red`. This will ensure that all dog observations will be colored in blue and all cats will be colored in red. Name this list `colors`."
   ]
  },
  {
   "cell_type": "code",
   "execution_count": 17,
   "metadata": {
    "ExecuteTime": {
     "end_time": "2020-03-27T20:03:17.125619Z",
     "start_time": "2020-03-27T20:03:17.119637Z"
    }
   },
   "outputs": [],
   "source": [
    "# Your code here:\n",
    "\n",
    "colors = ['blue']*80+['red']*80"
   ]
  },
  {
   "cell_type": "markdown",
   "metadata": {},
   "source": [
    "Create a scatter plot of `pc1` and `pc2` below. Use the `colors` list above to color the observations by setting `c=colors`."
   ]
  },
  {
   "cell_type": "code",
   "execution_count": 18,
   "metadata": {
    "ExecuteTime": {
     "end_time": "2020-03-27T20:03:17.401883Z",
     "start_time": "2020-03-27T20:03:17.128612Z"
    }
   },
   "outputs": [
    {
     "data": {
      "text/plain": [
       "Text(0, 0.5, 'PC2')"
      ]
     },
     "execution_count": 18,
     "metadata": {},
     "output_type": "execute_result"
    },
    {
     "data": {
      "image/png": "[encoded data removed]",
      "text/plain": [
       "<Figure size 432x288 with 1 Axes>"
      ]
     },
     "metadata": {
      "needs_background": "light"
     },
     "output_type": "display_data"
    }
   ],
   "source": [
    "# Your code here:\n",
    "\n",
    "plt.scatter(pet_df.pc1, pet_df.pc2, c=colors)\n",
    "plt.title('PC1 against PC2')\n",
    "plt.xlabel('PC1')\n",
    "plt.ylabel('PC2')"
   ]
  },
  {
   "cell_type": "markdown",
   "metadata": {},
   "source": [
    "Do you see a clear separation between cats and dogs? Write your answer below."
   ]
  },
  {
   "cell_type": "code",
   "execution_count": 19,
   "metadata": {
    "ExecuteTime": {
     "end_time": "2020-03-27T20:03:17.407885Z",
     "start_time": "2020-03-27T20:03:17.404874Z"
    }
   },
   "outputs": [],
   "source": [
    "# Your conclusions here:\n",
    "\n",
    "#separation is clear but there are quite a lot of points mixing"
   ]
  }
 ],
 "metadata": {
  "kernelspec": {
   "display_name": "Python 3",
   "language": "python",
   "name": "python3"
  },
  "language_info": {
   "codemirror_mode": {
    "name": "ipython",
    "version": 3
   },
   "file_extension": ".py",
   "mimetype": "text/x-python",
   "name": "python",
   "nbconvert_exporter": "python",
   "pygments_lexer": "ipython3",
   "version": "3.7.4"
  },
  "toc": {
   "base_numbering": 1,
   "nav_menu": {},
   "number_sections": true,
   "sideBar": true,
   "skip_h1_title": false,
   "title_cell": "Table of Contents",
   "title_sidebar": "Contents",
   "toc_cell": false,
   "toc_position": {},
   "toc_section_display": true,
   "toc_window_display": false
  },
  "varInspector": {
   "cols": {
    "lenName": 16,
    "lenType": 16,
    "lenVar": 40
   },
   "kernels_config": {
    "python": {
     "delete_cmd_postfix": "",
     "delete_cmd_prefix": "del ",
     "library": "var_list.py",
     "varRefreshCmd": "print(var_dic_list())"
    },
    "r": {
     "delete_cmd_postfix": ") ",
     "delete_cmd_prefix": "rm(",
     "library": "var_list.r",
     "varRefreshCmd": "cat(var_dic_list()) "
    }
   },
   "types_to_exclude": [
    "module",
    "function",
    "builtin_function_or_method",
    "instance",
    "_Feature"
   ],
   "window_display": false
  }
 },
 "nbformat": 4,
 "nbformat_minor": 2
}
